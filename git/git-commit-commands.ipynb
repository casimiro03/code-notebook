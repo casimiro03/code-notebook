{
 "cells": [
  {
   "cell_type": "markdown",
   "id": "aa039713",
   "metadata": {},
   "source": [
    "Below you will find useful git commands for everyday."
   ]
  },
  {
   "cell_type": "code",
   "execution_count": null,
   "id": "2c4b3424",
   "metadata": {
    "vscode": {
     "languageId": "shellscript"
    }
   },
   "outputs": [],
   "source": [
    "#show git version\n",
    "git --version\n",
    "\n",
    "#initialize git repository\n",
    "git init\n",
    "\n",
    "# Configure user details\n",
    "git config --global user.name \"Tu Nombre\"\n",
    "git config --global user.email \"tu@email.com\"\n",
    "\n",
    "# prepare all files for commit\n",
    "git add .\n",
    "\n",
    "# commit comentary\n",
    "git commit -m \"Primer commit: base de notas\"\n",
    "\n",
    "#github repo addition\n",
    "git remote add origin https://github.com/tuusuario/tu-repo.git\n",
    "git branch -M main\n",
    "git push -u origin main\n",
    "\n",
    "# push to remote repository\n",
    "git push origin main\n",
    "\n",
    "\n",
    "# Before edit in other devices\n",
    "# Cause if doesn't there will raise conflicts\n",
    "git pull\n",
    "\n",
    "# this one its useful cause download remote files & merge them with local files\n",
    "\n",
    "git pull origin main\n",
    "\n"
   ]
  },
  {
   "cell_type": "markdown",
   "id": "eb050cbc",
   "metadata": {},
   "source": [
    "During the commit I experiment an err:\n",
    "cause the date of the git and the last commit in github doesnt match therefore with the help of chatgpt I solved the conflict\n",
    "\n",
    "\n",
    "it prompts an txt file where you need specify a commit and then save the file."
   ]
  },
  {
   "cell_type": "code",
   "execution_count": null,
   "id": "2d1b00a5",
   "metadata": {
    "vscode": {
     "languageId": "shellscript"
    }
   },
   "outputs": [],
   "source": [
    "git pull origin main --allow-unrelated-histories\n"
   ]
  }
 ],
 "metadata": {
  "language_info": {
   "name": "python"
  }
 },
 "nbformat": 4,
 "nbformat_minor": 5
}
