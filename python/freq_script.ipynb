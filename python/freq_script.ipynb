{
 "cells": [
  {
   "cell_type": "code",
   "execution_count": null,
   "id": "3d188d03",
   "metadata": {
    "vscode": {
     "languageId": "plaintext"
    }
   },
   "outputs": [],
   "source": [
    "mport pandas as pd\n",
    "import seaborn as sns\n",
    "\n",
    "number_list = [5,8,3,9,6,7,10,6,7,4,6,9,5,6,7,9,4,6,8,7]\n",
    "\n",
    "averange= number_list.mean()\n",
    "\n",
    "data = pd.DataFrame(number_list)\n",
    "\n",
    "print(df)\n",
    "\n"
   ]
  }
 ],
 "metadata": {
  "language_info": {
   "name": "python"
  }
 },
 "nbformat": 4,
 "nbformat_minor": 5
}
