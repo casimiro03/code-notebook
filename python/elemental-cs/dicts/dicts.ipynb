{
 "cells": [
  {
   "cell_type": "markdown",
   "id": "b3677f48",
   "metadata": {},
   "source": []
  },
  {
   "cell_type": "markdown",
   "id": "5bf02219",
   "metadata": {},
   "source": [
    "### Useful dict dtype functions"
   ]
  },
  {
   "cell_type": "code",
   "execution_count": null,
   "id": "ce678308",
   "metadata": {},
   "outputs": [
    {
     "data": {
      "text/plain": [
       "True"
      ]
     },
     "execution_count": 5,
     "metadata": {},
     "output_type": "execute_result"
    }
   ],
   "source": [
    "people =    {\n",
    "            \"lastname\": \"name\",\n",
    "            \"Bladimir\": \"Kolodzie\"\n",
    "            }\n",
    "\n",
    "\"\"\"\n",
    "return the coincidences\n",
    "format: k in d\n",
    "where: k = key, and d = the dicts set\n",
    "\"\"\"\n",
    "def check_entry(db, dbkey):\n",
    "    return dbkey in db\n",
    "print( check_entry(people, \"Bladimir\") )\n",
    "check_entry(people, \"lastname\")\n",
    "\n"
   ]
  }
 ],
 "metadata": {
  "kernelspec": {
   "display_name": ".venv",
   "language": "python",
   "name": "python3"
  },
  "language_info": {
   "codemirror_mode": {
    "name": "ipython",
    "version": 3
   },
   "file_extension": ".py",
   "mimetype": "text/x-python",
   "name": "python",
   "nbconvert_exporter": "python",
   "pygments_lexer": "ipython3",
   "version": "3.12.6"
  }
 },
 "nbformat": 4,
 "nbformat_minor": 5
}
