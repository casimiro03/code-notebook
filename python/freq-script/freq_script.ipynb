{
 "cells": [
  {
   "cell_type": "code",
   "execution_count": null,
   "id": "3d188d03",
   "metadata": {},
   "outputs": [
    {
     "ename": "AttributeError",
     "evalue": "'list' object has no attribute 'mean'",
     "output_type": "error",
     "traceback": [
      "\u001b[31m---------------------------------------------------------------------------\u001b[39m",
      "\u001b[31mAttributeError\u001b[39m                            Traceback (most recent call last)",
      "\u001b[36mCell\u001b[39m\u001b[36m \u001b[39m\u001b[32mIn[1]\u001b[39m\u001b[32m, line 6\u001b[39m\n\u001b[32m      2\u001b[39m \u001b[38;5;28;01mimport\u001b[39;00m\u001b[38;5;250m \u001b[39m\u001b[34;01mseaborn\u001b[39;00m\u001b[38;5;250m \u001b[39m\u001b[38;5;28;01mas\u001b[39;00m\u001b[38;5;250m \u001b[39m\u001b[34;01msns\u001b[39;00m\n\u001b[32m      4\u001b[39m number_list = [\u001b[32m5\u001b[39m,\u001b[32m8\u001b[39m,\u001b[32m3\u001b[39m,\u001b[32m9\u001b[39m,\u001b[32m6\u001b[39m,\u001b[32m7\u001b[39m,\u001b[32m10\u001b[39m,\u001b[32m6\u001b[39m,\u001b[32m7\u001b[39m,\u001b[32m4\u001b[39m,\u001b[32m6\u001b[39m,\u001b[32m9\u001b[39m,\u001b[32m5\u001b[39m,\u001b[32m6\u001b[39m,\u001b[32m7\u001b[39m,\u001b[32m9\u001b[39m,\u001b[32m4\u001b[39m,\u001b[32m6\u001b[39m,\u001b[32m8\u001b[39m,\u001b[32m7\u001b[39m]\n\u001b[32m----> \u001b[39m\u001b[32m6\u001b[39m averange= \u001b[43mnumber_list\u001b[49m\u001b[43m.\u001b[49m\u001b[43mmean\u001b[49m()\n\u001b[32m      8\u001b[39m data = pd.DataFrame(number_list)\n\u001b[32m     10\u001b[39m \u001b[38;5;28mprint\u001b[39m(data)\n",
      "\u001b[31mAttributeError\u001b[39m: 'list' object has no attribute 'mean'"
     ]
    }
   ],
   "source": [
    "import pandas as pd\n",
    "import seaborn as sns\n",
    "\n",
    "number_list = [5,8,3,9,6,7,10,6,7,4,6,9,5,6,7,9,4,6,8,7]\n",
    "\n",
    "averange = number_list.mean()\n",
    "\n",
    "data = pd.DataFrame(number_list)\n",
    "\n",
    "print(data)\n",
    "\n",
    "\n",
    "\n",
    "# freq relativde = n freq abs / total, luego sum\n",
    "\n"
   ]
  }
 ],
 "metadata": {
  "kernelspec": {
   "display_name": ".venv",
   "language": "python",
   "name": "python3"
  },
  "language_info": {
   "codemirror_mode": {
    "name": "ipython",
    "version": 3
   },
   "file_extension": ".py",
   "mimetype": "text/x-python",
   "name": "python",
   "nbconvert_exporter": "python",
   "pygments_lexer": "ipython3",
   "version": "3.12.3"
  }
 },
 "nbformat": 4,
 "nbformat_minor": 5
}
