{
 "cells": [
  {
   "cell_type": "markdown",
   "id": "b3677f48",
   "metadata": {},
   "source": [
    "### Useful functions to work with dicts\n",
    "\n"
   ]
  },
  {
   "cell_type": "code",
   "execution_count": null,
   "id": "ce678308",
   "metadata": {},
   "outputs": [
    {
     "ename": "SyntaxError",
     "evalue": "'return' outside function (4230881184.py, line 11)",
     "output_type": "error",
     "traceback": [
      "  \u001b[36mCell\u001b[39m\u001b[36m \u001b[39m\u001b[32mIn[2]\u001b[39m\u001b[32m, line 11\u001b[39m\n\u001b[31m    \u001b[39m\u001b[31mreturn \"Bladimir\" in people\u001b[39m\n    ^\n\u001b[31mSyntaxError\u001b[39m\u001b[31m:\u001b[39m 'return' outside function\n"
     ]
    }
   ],
   "source": [
    "people =    {\"lastname\": \"name\",\n",
    "            \"Bladimir\": \"Kolodzie\"}\n",
    "\n",
    "\"\"\"\n",
    "# return the coincidence\n",
    "format: k in d\n",
    "k: key\n",
    "d: the dict set\n",
    "\"\"\"\n",
    "def check_entry(people)\n",
    "    return \"Bladimir\" in people\n"
   ]
  }
 ],
 "metadata": {
  "kernelspec": {
   "display_name": ".venv",
   "language": "python",
   "name": "python3"
  },
  "language_info": {
   "codemirror_mode": {
    "name": "ipython",
    "version": 3
   },
   "file_extension": ".py",
   "mimetype": "text/x-python",
   "name": "python",
   "nbconvert_exporter": "python",
   "pygments_lexer": "ipython3",
   "version": "3.12.6"
  }
 },
 "nbformat": 4,
 "nbformat_minor": 5
}
